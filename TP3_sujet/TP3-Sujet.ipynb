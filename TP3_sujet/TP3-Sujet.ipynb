{
 "cells": [
  {
   "cell_type": "markdown",
   "metadata": {
    "collapsed": true
   },
   "source": [
    "# Illustration du Théorème Central Limite\n",
    "Soit $(X_n)_{n \\ge 1}$ une suite de variables aléatoires _i.i.d._ de carré intégrable. On définit les suites $(m_n)_{n \\ge 1}$ et $(\\sigma_n^2)_{n \\ge 2}$ (non définie pour $n = 1$) de la façon suivante\n",
    "$$\n",
    "    m_n = \\frac{1}{n} \\sum_{k=1}^n X_k \\qquad \\text{et} \\qquad \n",
    "    \\sigma_n^2 = \\frac{1}{n-1} \\sum_{k=1}^n (X_k - m_n)^2 \\quad \\text{pour} \\; n \\ge 2\n",
    "$$\n",
    "et on veut illustrer la Loi Forte des Grands Nombres et le Théorème Central Limite (étendu en utilisant le lemme de Slutsky pour remplacer $\\sigma^2 = \\mathrm{var}(X_1)$ par l'estimateur $\\sigma_n^2$) c'est à dire les convergences\n",
    "$$\n",
    "    m_n \\xrightarrow{p.s.} m \\qquad \\text{et} \\qquad \n",
    "    \\sqrt{n} \\Bigl(\\frac{m_n - m}{\\sigma_n}\\Bigr) \\xrightarrow{\\mathcal{L}} \\mathcal{N}(0, 1).\n",
    "$$\n",
    "Plus précisément on constuit l'intervalle de confiance (asymptotique) à 95% à partir du TCL c'est à dire \n",
    "$$\n",
    "    \\text{pour $n$ grand} \\quad \\mathbf{P} \\biggl( m \\in \\biggl[ m_n - \\frac{1.96 \\sigma_n}{\\sqrt{n}} , m_n + \\frac{1.96 \\sigma_n}{\\sqrt{n}} \\biggr] \\biggr) \\simeq 0.95\n",
    "$$"
   ]
  },
  {
   "cell_type": "markdown",
   "metadata": {},
   "source": [
    "### Loi uniforme\n",
    "Reproduire le tracé suivant où les points sont les réalisations $X_k$ (en fonction de $k$ avec les options `pch = 3, cex=.5, col=\"grey\"`) de loi uniforme sur $[-4,8]$. La ligne bleue correspond à la moyenne $m$, la courbe rouge correspond à la suite $m_n$ et les lignes noires correspondent aux bornes de l'intervalle de confiance. \n",
    "![image](TCL_unif.png)"
   ]
  },
  {
   "cell_type": "code",
   "execution_count": null,
   "metadata": {
    "collapsed": false
   },
   "outputs": [],
   "source": []
  },
  {
   "cell_type": "markdown",
   "metadata": {},
   "source": [
    "### Loi de Cauchy\n",
    "Reprendre rapidement l'exemple précédent en remplaçant la loi uniforme par la loi de Cauchy. On obtient des réalisations de la loi de Cauchy en utilisant la fonction `rcauchy`. Voici un exemple de ce qu'on peut obtenir. Qu'en pensez-vous ?\n",
    "![image](TCL_Cauchy.png)"
   ]
  },
  {
   "cell_type": "code",
   "execution_count": null,
   "metadata": {
    "collapsed": false
   },
   "outputs": [],
   "source": []
  },
  {
   "cell_type": "markdown",
   "metadata": {},
   "source": [
    "# Méthode de Monte Carlo\n",
    "## Préliminaire\n",
    "On va mettre en oeuvre un estimateur de Monte Carlo pour calculer \n",
    "$$\n",
    "    I(\\beta) = \\mathbf{E}[\\exp(\\beta G)] \\quad \\text{où $G \\sim \\mathcal{N}(0,1)$ et $\\beta \\in \\mathbf{R}$}. \n",
    "$$\n",
    "La valeur exacte $I(\\beta) = \\exp(\\beta^2/2)$ est connue mais cet exemple permet d'illustrer l'importance des bornes de l'intervalle de confiance (et donc de l'estimation de la variance) dans une méthode de Monte Carlo. La seule valeur moyenne $I_n = \\frac{1}{n} \\sum_{k=1}^n X_k$ n'est pas suffisante pour déterminer $I$. \n",
    "\n",
    "Reproduire le tableau suivant (une matrice) où chaque colonne représente un résultat pour une valeur de $\\beta \\in \\{0.2, 0.5, 1, 2, 3, 5\\}$: la première ligne représente la valeur moyenne $I_n$, les lignes 2 et 3 sont les bornes inférieures et supérieurs de l'IC à 95% et la quatrième ligne est l'estimateur de la variance. Ce tableau est obtenu pour $n = 1\\,000\\,000$. Comment interpréter ce tableau ?\n",
    "\n",
    "<table border=1>\n",
    "<tr> <th>  </th> <th> 0.2 </th> <th> 0.5 </th> <th> 1 </th> <th> 2 </th> <th> 3 </th> <th> 5 </th>  </tr>\n",
    "  <tr> <td align=\"right\"> Mean </td> <td align=\"right\"> 1.0204 </td> <td align=\"right\"> 1.1332 </td> <td align=\"right\"> 1.6467 </td> <td align=\"right\"> 7.4375 </td> <td align=\"right\"> 93.019 </td> <td align=\"right\"> 1.0161e+05 </td> </tr>\n",
    "  <tr> <td align=\"right\"> Lower </td> <td align=\"right\">   1.02 </td> <td align=\"right\">  1.132 </td> <td align=\"right\"> 1.6425 </td> <td align=\"right\"> 7.3392 </td> <td align=\"right\"> 83.707 </td> <td align=\"right\">  65532 </td> </tr>\n",
    "  <tr> <td align=\"right\"> Upper </td> <td align=\"right\"> 1.0208 </td> <td align=\"right\"> 1.1344 </td> <td align=\"right\"> 1.6509 </td> <td align=\"right\"> 7.5359 </td> <td align=\"right\"> 102.33 </td> <td align=\"right\"> 1.3768e+05 </td> </tr>\n",
    "  <tr> <td align=\"right\"> Var </td> <td align=\"right\"> 0.042568 </td> <td align=\"right\"> 0.36382 </td> <td align=\"right\"> 4.6021 </td> <td align=\"right\">   2518 </td> <td align=\"right\"> 2.2574e+07 </td> <td align=\"right\"> 3.3875e+14 </td> </tr>\n",
    "   </table>\n",
    "\n"
   ]
  },
  {
   "cell_type": "code",
   "execution_count": null,
   "metadata": {
    "collapsed": false
   },
   "outputs": [],
   "source": []
  },
  {
   "cell_type": "markdown",
   "metadata": {},
   "source": [
    "# Option panier\n",
    "On considère $d \\ge 2$ actifs financiers dont la loi à l'instant $T > 0$ est modélisée par une loi log-normale c'est à dire \n",
    "$$\n",
    "    \\forall i \\in \\{1,\\dots,d\\}, \\quad\n",
    "    S^i_T = S^i_0 \\exp\\Bigl( \\bigl(r-\\frac{\\sigma_i^2}{2}\\bigr) T + \\sigma_i \\sqrt{T} \\tilde G_i \\Bigr)\n",
    "$$\n",
    "où le vecteur $(\\tilde G_1,\\dots, \\tilde G_d)$ est gaussien centré de matrice de covariance $\\Sigma$ et les constantes $r > 0$, $\\sigma_i > 0$ sont fixées. Il s'agit d'actifs financiers $(S^i_t)_{t \\in [0,T]}$, $1 \\le i \\le d$, modélisés par un processus de Black-Scholes multidimensionnel. On introduit la matrice $L$ triangulaire inférieure obtenue par la décomposition de Cholesky de la matrice $\\Sigma = L^t L$. A l'aide de cette matrice $L$, on définit la fonction $\\Phi:\\mathbf{R}^d \\to \\mathbf{R}^d$ telle que \n",
    "$$\n",
    "    (S^1_T, \\dots, S^d_T) = \\Phi(G_1, \\dots, G_d) \\quad \\text{ou encore} \\quad S^i_T = \\Phi_i(G_1, \\dots, G_d)\n",
    "$$\n",
    "où $(G_1, \\dots, G_d) \\sim \\mathcal{N}(0, I_d)$ (l'égalité précédente est à considérer en loi).\n",
    "\n",
    "Définisser les paramètres globaux $d = 10$, $T = 1$, $r = 0.04$, $S^i_0 = 100$ (pour tous les actifs), $\\sigma_i = i / (2d)$ (certains actifs sont plus volatiles que d'autres) et la matrice de corrélation $\\Sigma$ définie par $\\Sigma_{i,i} = 1$ et $\\Sigma_{i,j} = \\rho \\in [0,1]$ pour $i \\neq j$, avec $\\rho = 0.2$. \n",
    "\n",
    "Initialiser la matrice $L$ en utilisant la fonction `chol`. Attention la fonction `chol` renvoie une matrice triangulaire supérieure, on doit donc prendre la transposée de cette matrice pour la matrice $L$. La transposée est obtenue en utilisant la fonction `t`."
   ]
  },
  {
   "cell_type": "code",
   "execution_count": null,
   "metadata": {
    "collapsed": false
   },
   "outputs": [],
   "source": []
  },
  {
   "cell_type": "markdown",
   "metadata": {},
   "source": [
    "On s'intéresse au prix d'une option européenne (aussi appelé produit dérivé européen) sur le panier de ces $d$ actifs financiers, c'est à dire qu'on veut calculer \n",
    "$$\n",
    "    \\mathbf{E} \\biggl[ \\biggl(\\frac{1}{d} \\sum_{i=1}^d S^i_T  - K\\biggr)_+ \\biggr]. %\\quad \\text{avec} \\quad g(x) = (x-K)_+ \\quad \\text{ou} \\quad g(x) = (K-x)_+.\n",
    "$$\n",
    "Définir une fonction $\\phi: \\mathbf{R}^d \\times \\mathbf{R}_+ \\to \\mathbf{R}_+$ telle que \n",
    "$$\n",
    "    \\phi(G_1, \\dots, G_d, K) = \\biggl(\\frac{1}{d} \\sum_{i=1}^d \\Phi_i(G_1, \\dots, G_d) - K\\biggr)_+\n",
    "$$\n",
    "dans une fonction `R` appelée `phi`.  Dans la suite on note $X = \\phi(G_1, \\dots, G_d, K)$."
   ]
  },
  {
   "cell_type": "code",
   "execution_count": null,
   "metadata": {
    "collapsed": true
   },
   "outputs": [],
   "source": []
  },
  {
   "cell_type": "markdown",
   "metadata": {
    "collapsed": true
   },
   "source": [
    "## Estimateur de Monte Carlo\n",
    "Ecrire et programmer l'estimateur de Monte Carlo pour estimer la quantité $\\mathbf{E}[X] = \\mathbf{E}[\\phi(G_1, \\dots, G_d, K)]$ où $(G_1, \\dots, G_d) \\sim \\mathcal{N}(0, I_d)$. Pour la suite on recommande d'écrire une fonction `monte_carlo` dont l'appel est le suivant \n",
    "```R\n",
    "n <- 1e5\n",
    "Ks <- c(80, 90, 100, 110, 120)\n",
    "X <- function(K) { return(phi(rnorm(d, 0, 1), K)) }\n",
    "r_mc <- monte_carlo(n, X, Ks)\n",
    "```\n",
    "et le résultat est une matrice au format suivant (ici c'est un résultat possible): \n",
    "<table border=1>\n",
    "<tr> <th>  </th> <th> K </th> <th> Mean </th> <th> Var </th> <th> Lower </th> <th> Upper </th>  </tr>\n",
    "  <tr> <td align=\"right\"> 1 </td> <td align=\"right\">     80 </td> <td align=\"right\"> 24.241 </td> <td align=\"right\"> 245.65 </td> <td align=\"right\"> 24.144 </td> <td align=\"right\"> 24.338 </td> </tr>\n",
    "  <tr> <td align=\"right\"> 2 </td> <td align=\"right\">     90 </td> <td align=\"right\"> 15.308 </td> <td align=\"right\">  210.1 </td> <td align=\"right\"> 15.218 </td> <td align=\"right\"> 15.398 </td> </tr>\n",
    "  <tr> <td align=\"right\"> 3 </td> <td align=\"right\">    100 </td> <td align=\"right\"> 8.3711 </td> <td align=\"right\"> 140.66 </td> <td align=\"right\"> 8.2975 </td> <td align=\"right\"> 8.4446 </td> </tr>\n",
    "  <tr> <td align=\"right\"> 4 </td> <td align=\"right\">    110 </td> <td align=\"right\"> 3.9864 </td> <td align=\"right\"> 73.926 </td> <td align=\"right\"> 3.9331 </td> <td align=\"right\"> 4.0396 </td> </tr>\n",
    "  <tr> <td align=\"right\"> 5 </td> <td align=\"right\">    120 </td> <td align=\"right\"> 1.7289 </td> <td align=\"right\"> 33.639 </td> <td align=\"right\">  1.693 </td> <td align=\"right\"> 1.7649 </td> </tr>\n",
    "   </table>"
   ]
  },
  {
   "cell_type": "code",
   "execution_count": null,
   "metadata": {
    "collapsed": false
   },
   "outputs": [],
   "source": []
  },
  {
   "cell_type": "markdown",
   "metadata": {},
   "source": [
    "## Variables antithétiques\n",
    "Sur le même modèle que précédemment, coder une fonction `X_antith` qui pour une valeur de $K$ renvoie\n",
    "$$\n",
    "    \\frac{1}{2} \\bigl( \\phi(G_1, \\dots, G_d, K) + \\phi(-G_1, \\dots, -G_d, K) \\bigr)\n",
    "$$\n",
    "et l'utilser pour implémenter la méthode de Monte Carlo avec réduction de variance par variables antithétiques. Un appel possible est `monte_carlo(n, X_antith, Ks)`.\n",
    "\n",
    "Comparer les ratios des variances obtenues par ces deux méthodes (sans et avec variables antithétiques). Vous devez trouvez environ 18 lorsque $K = 80$, 4 pour $K = 100$ et 2 pour $K = 120$."
   ]
  },
  {
   "cell_type": "code",
   "execution_count": null,
   "metadata": {
    "collapsed": false
   },
   "outputs": [],
   "source": []
  },
  {
   "cell_type": "markdown",
   "metadata": {},
   "source": [
    "## Variable de contrôle\n",
    "On suppose pour simplifier $S^i_0 = S_0$ pour tout $i \\in \\{1,\\dots,d\\}$. On propose d'utiliser l'approximation $\\displaystyle \\frac{1}{d} \\sum_{i=1}^d \\exp(x_i) \\sim \\exp\\bigl( \\frac{1}{d} \\sum_{i=1}^d x_i \\bigr)$ lorsque les $x_i$ sont proches de 0, c'est à dire lorsque les paramètres $r$ et $\\sigma_i$ sont petits. La variable de contrôle à considérer en utilisant cette approximation est \n",
    "$$\n",
    "    Y = \\bigl( S_0 \\exp (Z) - K \\bigl)_+ \\quad \\text{avec} \\quad Z = \\frac{1}{d} \\sum_{i=1}^d \n",
    "        \\Bigl((r - \\frac{\\sigma_i^2}{2})T + \\sigma_i \\sqrt{T} \\tilde G_i \\Bigr).\n",
    "$$\n",
    "Montrer que $Z$ est une variable aléatoire gaussienne caractérisée par \n",
    "$$\n",
    "    \\mathbf{E}[Z] = \\frac{T}{d} \\sum_{i=1}^d \\bigl(r - \\frac{\\sigma_i^2}{2} \\bigr)\n",
    "        \\quad \\text{et} \\quad \\mathrm{var}(Z) = \\frac{T}{d^2} \\Bigl( \\sum_{i=1}^d \\sigma_i^2 + 2 \\rho \\sum_{i <j} \\sigma_i \\sigma_j \\Bigr).\n",
    "$$\n",
    "On rappelle la formule fermée suivante appelée formule de Black-Scholes, si $Z \\sim \\mathcal{N}(m, s^2)$ alors \n",
    "$$\n",
    "    P(m, s, k) = \\mathbf{E}\\bigl[ \\bigl( \\exp(Z) - k \\bigr)_+ \\bigr] = \\exp\\bigl(m + \\frac{1}{2} s^2\\bigr) N(d_1 + s) - k N(d_1) \\quad \\text{avec} \\quad d_1 = \\frac{m - \\log(k)}{s},\n",
    "$$\n",
    "et $N(x)$ la fonction de répartition de la loi normale centrée réduite (fonction `pnorm`).\n",
    "\n",
    "Pour programmer l'estimateur avec la variable de contrôle $Y$, c'est à dire l'estimateur basé sur la représentation \n",
    "$$\n",
    "    \\mathbf{E}\\bigl[ X - Y \\bigr] + \\mathbf{E}[Y],\n",
    "$$\n",
    "on peut procéder en 2 étapes:\n",
    "- on programme une fonction `X_vc` similaire à `X` et `X_antith` qui renvoie une réalisation de $X - Y$, plus précisément une réalisation de $\\phi(G_1, \\dots, G_d, K) - \\psi(G_1, \\dots, G_d, K)$ en écrivant $Y = \\psi(G_1, \\dots, G_d, K)$. L'appel `monte_carlo(n, X_vc, Ks)` permet un calcul de $\\mathbf{E}\\bigl[X-Y\\bigr]$ et permet de comparer les variances.\n",
    "- on programme la correction nécessaire $\\mathbf{E}[Y] = S_0 P(m, s, K/S_0)$ avec $m = \\mathbf{E}[Z]$ et $s = \\sqrt{\\mathrm{var}(Z)}$.\n",
    "\n",
    "Comparer les ratios des variances obtenues."
   ]
  },
  {
   "cell_type": "code",
   "execution_count": null,
   "metadata": {
    "collapsed": false
   },
   "outputs": [],
   "source": []
  },
  {
   "cell_type": "markdown",
   "metadata": {
    "collapsed": true
   },
   "source": [
    "### Généralisation\n",
    "Généraliser l'approche précédente lorsque les actifs ont des valeurs initiales différents $S^i_0 \\neq S^j_0$ pour $i \\neq j$ et lorsqu'on prend un indice pondéré c'est à dire qu'on remplace \n",
    "$$\n",
    "    \\frac{1}{d} \\sum_{i = 1}^d S_T^i \\quad \\text{par} \\quad \\sum_{i = 1}^d a_i S_T^i\n",
    "$$\n",
    "avec $\\displaystyle \\sum_{i=1}^d a_i = 1$."
   ]
  },
  {
   "cell_type": "code",
   "execution_count": null,
   "metadata": {
    "collapsed": true
   },
   "outputs": [],
   "source": []
  },
  {
   "cell_type": "markdown",
   "metadata": {},
   "source": [
    "## Stratification\n",
    "On propose la stratégie de stratification de la loi $\\mathcal{N}(0, Id)$ de la façon suivante. Soit $v$ un vecteur unitaire de $\\mathbf{R}^d$, c'est à dire vérifiant $\\|v\\|_2 = \\sum_i v_i^2 = 1$. On considère la représentation (dont vous pouvez vérifier la validité)\n",
    "$$\n",
    "    \\mathbf{E}\\bigl[\\phi(G_1, \\dots, G_d, K)\\bigr] = \\sum_{i=1}^{m} \\mathbf{E}\\bigl[ \\phi(Z^{(i)}, K) \\bigr] p_i \\quad \\text{avec} \\quad p_i = \\frac{1}{m}\n",
    "$$\n",
    "où \n",
    "- $G=(G_1, \\dots, G_d) \\sim \\mathcal{N}(0, I_d)$\n",
    "- $U \\sim \\mathcal{U}([0,1])$\n",
    "- $U^{(i)} = F^{-1}\\bigl(\\frac{i-1}{m} + \\frac{U}{m}\\bigr)$ avec $F^{-1}$ l'inverse de la fonction de répartition de $\\mathcal{N}(0,1)$\n",
    "- $Z^{(i)} = U^{(i)} v + \\bigl(I_d - v v^t\\bigr) G$ pour $1 \\le i \\le d$ (un vecteur de $\\mathbf{R}^d$)\n",
    "\n",
    "On considère le choix proportionnel, c'est à dire le même nombre de réalisations $n_i = n p_i = \\frac{n}{m}$ pour tous les estimateurs de Monte Carlo de $\\mathbf{E}\\bigl[ \\phi(Z^{(i)}, K) \\bigr]$. Implémenter cet estimateur stratifié en prenant le vecteur $v = \\bigl(\\frac{1}{\\sqrt{d}}, \\dots, \\frac{1}{\\sqrt{d}}\\bigr)$."
   ]
  },
  {
   "cell_type": "code",
   "execution_count": null,
   "metadata": {
    "collapsed": true
   },
   "outputs": [],
   "source": []
  }
 ],
 "metadata": {
  "kernelspec": {
   "display_name": "R",
   "language": "R",
   "name": "ir"
  },
  "language_info": {
   "codemirror_mode": "r",
   "file_extension": ".r",
   "mimetype": "text/x-r-source",
   "name": "R",
   "pygments_lexer": "r",
   "version": "3.3.2"
  }
 },
 "nbformat": 4,
 "nbformat_minor": 0
}
