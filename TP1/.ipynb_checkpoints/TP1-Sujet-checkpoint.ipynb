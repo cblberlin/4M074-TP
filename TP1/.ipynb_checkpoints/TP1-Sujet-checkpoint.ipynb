{
 "cells": [
  {
   "cell_type": "markdown",
   "metadata": {},
   "source": [
    "# Bases du R"
   ]
  },
  {
   "cell_type": "markdown",
   "metadata": {},
   "source": [
    "## Notebook jupyter\n",
    "Le notebook est un document interactif, qui permet de mélanger du texte et des lignes de code (pour nous, c'est du code `R`). Il est possible d'exécuter le code, de le modifier, et d'ajouter (ou de supprimer) des cellules de code ou de commentaire. Vous avez la possibilité d'enregistrer les modifications par le bouton correspondant dans la barre à outils en haut.\n",
    "\n",
    "Dans la cellule de code suivante, vous voyez des instructions en `R`. Pour les exécuter, il faut d'abord cliquer dans la cellule pour la sélectionner, puis appuyer sur la fléche vers la droite dans la barre à outils.\n"
   ]
  },
  {
   "cell_type": "code",
   "execution_count": null,
   "metadata": {},
   "outputs": [],
   "source": [
    "x <- 17\n",
    "x\n",
    "y <- x + 3\n",
    "y"
   ]
  },
  {
   "cell_type": "markdown",
   "metadata": {},
   "source": [
    "Les variables `x` et `y` sont désormais définies. Dans la suite, vous pouvez les utiliser et travailler avec. Autrement dit, les notebooks sont un moyen pour excécuter du code progressivement. \n",
    "Dans la cellule suivante, calculer le carré de `y`."
   ]
  },
  {
   "cell_type": "code",
   "execution_count": null,
   "metadata": {
    "collapsed": true
   },
   "outputs": [],
   "source": []
  },
  {
   "cell_type": "markdown",
   "metadata": {},
   "source": [
    "Au fur et à mesure que vous exécutez des cellules de code, vous voyez apparaître des numéros entre crochets à gauche de la cellule. Ces numéros vous aident à garder une trace de l'ordre dans lequel vous exécutez les cellules. Juste pour voir, revenez à la première cellule de code et modifiez la valeur de `y`. Puis, réexécutez la cellule. Cela change la sortie de la première cellule, mais pas de la deuxième (alors que la valeur de `y` a changé). Les numéros entre crochets vous permettent donc de vous répérer plus facilement.\n",
    "\n",
    "Parfois, quand on vient d'exécuter plein de cellules, on perd un peu le contrôle, et on ne sait plus quelles sont les valeurs actuelles des différentes variables. Dans ce cas, il vaut mieux de reprendre à zéro. Pour cela, sélectionnez **Kernel** en haut de la page et choissisez **Restart**. Vous pouvez observer que tous les numéros entre crochets disparaissent ainsi que toutes les sorties en-dessous des cellules de code. Un **Restart** du **Kernel** revient alors à supprimer tous les objets créés.\n",
    "\n",
    "Vous pouvez modifier un notebook comme bon vous semble. Par exemple pour ajouter une cellule, cliquer sur le symbole **+** dans la barre à outils. Cela crée une nouvelle cellule juste en-dessous de la dernière cellule sélectionnée. Par défaut, il s'agit d'une cellule de code dans laquelle vous pouvez écrire des instructions en R. Si la nouvelle cellule doit contenir du texte, il suffit de modifier son type par le menu déroulant en changeant **Code** en **Markdown**. Le **Markdown** permet d'écrire du texte, le formatage est très simple. Si cela vous intéresse, double-cliquez sur les cellules de type **Markdown** dans ce notebook pour voir comment ajouter un titre, mettre du texte **en gras** ou *en italique*, créer une liste etc. N'oubliez pas qu'il faut aussi exécuter les cellules **Markdown** en appuyant sur la flèche vers la droite dans la barre à outils."
   ]
  },
  {
   "cell_type": "markdown",
   "metadata": {},
   "source": [
    "## Langage R\n",
    "Le langage `R` est très utilisé et il existe un grand nombre d'ouvrages permettant de s'initier à la syntaxe de ce langage. On recommande l'exploration du site officiel du langage/logiciel R:\n",
    "https://cran.r-project.org/ \n",
    "\n",
    "Le document d'introduction permet de progresser rapidement dans ce langage:\n",
    "https://cran.r-project.org/doc/manuals/R-intro.pdf\n",
    "\n",
    "Voici quelques commandes illustrant le langage. Ces commandes sont tirées du document suivant qui constitue aussi une bonne introduction:\n",
    "https://cran.r-project.org/doc/contrib/Goulet_introduction_programmation_R.pdf\n",
    "\n",
    "```R\n",
    "# Générer la suite 1,2,...,10.\n",
    "1:10\n",
    "\n",
    "# La fonction 'seq' sert à générer des suites plus générales.\n",
    "seq(from = -5, to = 10, by = 3)\n",
    "seq(from = -5, length = 10)\n",
    "\n",
    "# La fonction 'rep' sert à répéter des valeurs.\n",
    "rep(1, 5)          # répéter 1 cinq fois\n",
    "rep(1:5, 5)        # répéter le vecteur 1,...,5 cinq fois\n",
    "rep(1:5, each = 5) # répéter chaque élément du vecteur cinq fois\n",
    "\n",
    "# Arithmétique vectorielle.\n",
    "v <- 1:12          # initialisation d' un vecteur\n",
    "v + 2              # additionner 2 à chaque élément de v \n",
    "v * -12:-1         # produit élément par élément \n",
    "v + 1:3            # attention: le vecteur le plus court est recyclé\n",
    "\n",
    "# Vecteur de nombres uniformes sur l'intervalle [1, 10].\n",
    "v <- runif(12, min = 1, max = 10)\n",
    "v\n",
    "\n",
    "# Pour afficher le résultat d'une affectation, placer la commande entre parenthèses.\n",
    "( v <- runif(12, min = 1, max = 10) )\n",
    "\n",
    "# Arrondi des valeurs de v à l'entier près.\n",
    "( v <- round(v) )\n",
    "\n",
    "# Créer une matrice 3x4 à partir des valeurs de v.\n",
    "# Remarquer que la matrice est remplie par colonne.\n",
    "( m <- matrix(v, nrow = 3, ncol = 4) )\n",
    "\n",
    "# Les opérateurs arithmétiques de base s'appliquent aux matrices comme aux vecteurs.\n",
    "m + 2\n",
    "m * 3\n",
    "m ^ 2\n",
    "\n",
    "# Éliminer la quatrième colonne afin d'obtenir une matrice carrée.\n",
    "( m <- m[,-4] )\n",
    "\n",
    "# Transposée et inverse de la matrice m.\n",
    "t(m)\n",
    "solve(m)\n",
    "\n",
    "# Produit matriciel.\n",
    "m %*% m               # produit de m avec elle-même\n",
    "m %*% solve(m)        # produit de m avec son inverse\n",
    "round(m %*% solve(m)) # l'arrondi donne la matrice identité\n",
    "\n",
    "# Consulter la rubrique d'aide de la fonction 'solve'.\n",
    "?solve                # ou help(solve)\n",
    "\n",
    "# Liste des objets dans l'espace de travail.\n",
    "ls()\n",
    "\n",
    "# Nettoyage.\n",
    "rm(x, y, v, m)\n",
    "\n",
    "```\n",
    "Reproduire certaines de ces commandes si vous ne les connaissez pas dans la cellule suivante. "
   ]
  },
  {
   "cell_type": "code",
   "execution_count": null,
   "metadata": {
    "collapsed": true
   },
   "outputs": [],
   "source": []
  },
  {
   "cell_type": "markdown",
   "metadata": {},
   "source": [
    "Les fonctions de base et de la plupart des packages sont bien documentées et accompagnées d'exemples qu'il est bon d'executer une fois pour comprendre les différents appels possibles. Les exemples associées à une fonction sont accessible directement via la fonction `example`. Par exemple executer la commande suivante \n",
    "```R\n",
    "example(plot)\n",
    "```"
   ]
  },
  {
   "cell_type": "code",
   "execution_count": null,
   "metadata": {},
   "outputs": [],
   "source": [
    "example(plot)"
   ]
  },
  {
   "cell_type": "markdown",
   "metadata": {},
   "source": [
    "# Simulation de variables aléatoires"
   ]
  },
  {
   "cell_type": "markdown",
   "metadata": {},
   "source": [
    "## Nombres pseudo-aléatoires\n",
    "Le générateur de nombres aléatoires utilisé par défaut est le _Mersenne-Twister_ et la façon de générer les variables aléatoires gaussiennes est par défaut la méthode de l'inversion de la fonction de répartition. On peut obtenir ces informations via la fonction `RNGkind()`. Pour initialiser le générateur avec une graine donnée (et répliquer ainsi des résultats de programmes utilisants des nombres pseudo-aléatoires), on utilise le fonction `set.seed()`. Executer les commandes suivantes\n",
    "```R\n",
    "help(RNGkind)\n",
    "RNGkind()\n",
    "seed <- 12345\n",
    "set.seed(seed, kind=\"Mersenne-Twister\", normal.kind=\"Box-Muller\")\n",
    "RNGkind()\n",
    "```\n",
    "L'état du générateur se trouve dans la variable globale `.Random.seed`."
   ]
  },
  {
   "cell_type": "code",
   "execution_count": null,
   "metadata": {},
   "outputs": [],
   "source": []
  },
  {
   "cell_type": "markdown",
   "metadata": {},
   "source": [
    "La fonction `runif(n)` permet d'obtenir la réalisation de `n` nombres pseudo-aléatoires. Veuillez lire la page d'aide de cette fonction \n",
    "```R\n",
    "help(runif)\n",
    "```"
   ]
  },
  {
   "cell_type": "code",
   "execution_count": null,
   "metadata": {},
   "outputs": [],
   "source": []
  },
  {
   "cell_type": "markdown",
   "metadata": {},
   "source": [
    "On vérifie graphiquement que les nombres $(X_n)_{n}$ produits par un appel de la fonction `runif` sont uniformément répartis sur $[0,1]$ en traçant l'histogramme des points $(X_n)_{n}$ (via un appel de la fonction `hist`), en traçant le graphe des paires adjacentes $(X_n, X_{n+1})_n$ (via la fonction `plot`) puis en traçant la fonction d'autocorrélation (via la fonction `acf`). \n",
    "Pour créer un groupe de 3 graphiques sur une rangée on peut utiliser la commande suivante (cf. la page d'aide pour plus de détails)\n",
    "```R\n",
    "par(mfrow = c(1,3))\n",
    "```\n",
    "Voici un résultat obtenu pour un appel de 1000 points. \n",
    "![image](unif.png)\n",
    "Reproduire le graphe ci-dessus."
   ]
  },
  {
   "cell_type": "code",
   "execution_count": null,
   "metadata": {},
   "outputs": [],
   "source": []
  },
  {
   "cell_type": "markdown",
   "metadata": {},
   "source": [
    "## La loi exponentielle\n",
    "Dans le graphe suivant on compare l'histogramme créé à partir de 5000 réalisations (indépendantes) de variables aléatoires de loi exponentielle de paramètre 1 obtenue via un appel de la fonction de base `rexp` et 5000 réalisations obtenues à partir de la transformation par $x \\mapsto -log(u)$ de réalisations uniformes (méthode de l'inverse de la fonction de répartition). \n",
    "![image](exp.png)\n",
    "Reproduire ce graphe."
   ]
  },
  {
   "cell_type": "code",
   "execution_count": null,
   "metadata": {
    "scrolled": true
   },
   "outputs": [],
   "source": []
  },
  {
   "cell_type": "markdown",
   "metadata": {},
   "source": [
    "## Illustration de la méthode du rejet\n",
    "On propose d'illustrer la méthode du rejet pour dans le cas d'une loi bêta de paramètres $\\alpha > 1$ et $\\beta > 1$. On rappelle la forme de la densité de la loi \n",
    "$$\n",
    "    f_{\\alpha, \\beta}(x) = \\frac{1}{B(\\alpha, \\beta)} x^{\\alpha-1} (1-x)^{\\beta-1} \\mathbf{1}_{[0,1]}(x)\n",
    "$$\n",
    "où $B(\\alpha, \\beta)$ est la constante de normalisation de la loi. Cette fonction est accessible en `R` à travers l'appel de `dbeta(x, alpha, beta)`. Le but est de créer le graphique suivant représentant la méthode du rejet pour une loi bêta de paramètres $\\alpha = 1.5$ et $\\beta = 3$ et une loi auxiliaire qui est la loi uniforme sur $[0,1]$, c'est à dire $g(x) = \\mathbf{1}_{[0,1]}(x)$. La ligne rouge represente $c g(x)$ avec $c = 2$, les points bleus sont les réalisations acceptées (parmi 1000 réalisations) et les cercles gris sont les réalisations rejettées. \n",
    "![image](rejet.png)\n",
    "En utilisant les fonctions `dbeta`, `curve`, `abline`, `runif` et `points` (lire les pages de documentation si besoin) reproduire le graphe ci-dessus. "
   ]
  },
  {
   "cell_type": "code",
   "execution_count": null,
   "metadata": {},
   "outputs": [],
   "source": []
  },
  {
   "cell_type": "markdown",
   "metadata": {},
   "source": [
    "Refaire la question précédente en cherchant le $c$ optimal dans la majoration $f(x) \\le c g(x)$ via la fonction `optimize`."
   ]
  },
  {
   "cell_type": "code",
   "execution_count": null,
   "metadata": {
    "collapsed": true
   },
   "outputs": [],
   "source": []
  },
  {
   "cell_type": "markdown",
   "metadata": {},
   "source": [
    "## Loi binomiale: inverse de la fonction de répartition vs définition probabiliste\n",
    "On veut comparer deux algorithmes pour la simulation d'une loi binomiale $X \\sim B(n, p)$. Le premier algorithme utilise la définition de la loi binomiale comme somme de $n$ variables aléatoires indépendantes de Bernoulli de paramètre $p \\in ]0,1[$ \n",
    "$$\n",
    "    X = \\sum_{k=1}^n B_k, \\quad \\text{avec} \\quad \\mathbf{P}[B_1 = 1] = p = 1 - \\mathbf{P}[B_1 = 0]\n",
    "$$\n",
    "Cet algorithme sera programmé dans une fonction `rbinom_def` qui prend 3 arguments qui sont les mêmes que les 3 premiers arguments de la fonction de base `rbinom` (consulter la page d'aide):\n",
    "```R\n",
    "rbinom_def = function(n, size, prob) {\n",
    "    realisation = function(size, prob) {\n",
    "        # code à écrire\n",
    "    }\n",
    "    replicate(n, realisation(size, prob))\n",
    "}\n",
    "```"
   ]
  },
  {
   "cell_type": "code",
   "execution_count": null,
   "metadata": {
    "collapsed": true
   },
   "outputs": [],
   "source": []
  },
  {
   "cell_type": "markdown",
   "metadata": {},
   "source": [
    "De la même façon, coder une fonction `rbinom_invF` qui code la méthode dite de l'inverse de la fonction de répartition, en utilisant par exemple les fonctions de base `cumsum` et `findInterval`. "
   ]
  },
  {
   "cell_type": "code",
   "execution_count": null,
   "metadata": {},
   "outputs": [],
   "source": []
  },
  {
   "cell_type": "markdown",
   "metadata": {},
   "source": [
    "Tester ces deux fonctions pour différentes valeurs de $n$ et $p$ (par exemple $n = 5$, $20$ et $100$, et $p = 0,5$) en traçant les histogrammes de 10000 réalisations et la valeur de la fonction de masse $p(k) = \\mathbf{P}[X = k]$ (accessible via la fonction `dbinom`). Pour la représentation d'un histogramme d'une loi discrète on recommande l'utilisation de la fonction `table` et d'un tracé via `barplot` ou `plot(..., type=\"h\")`. \n",
    "\n",
    "Reproduire les graphes ci-dessous et comparer les temps d'executions de ces fonctions pour différents appels via la fonction `system.time` ou le package `benchmark`.\n",
    "![image](rbinom.png)\n"
   ]
  },
  {
   "cell_type": "code",
   "execution_count": null,
   "metadata": {},
   "outputs": [],
   "source": []
  },
  {
   "cell_type": "markdown",
   "metadata": {},
   "source": [
    "## Méthode de l'Alias\n",
    "La méthode de l'alias permet une simulation très rapide de lois discrètes à support fini. Elle utilise la représentation d'une loi donnée $\\nu$ à valeurs dans $\\{x_1,\\dots,x_n\\}$ ($n \\ge 1$ fixé), $\\nu$ est identifiée à un vecteur ligne et il existe une matrice stochastique $P$ telle que \n",
    "$$\n",
    "    \\nu = \\mu P \\quad \\text{où} \\quad \\mu = \\bigl(\\frac{1}{n}, \\dots, \\frac{1}{n} \\bigr) \\text{ représente la loi discrète $\\mathcal{U}(\\{x_1,\\dots,x_n\\})$.}\n",
    "$$\n",
    "On rappelle qu'une matrice stochastique est une matrice carrée telle que pour tout $i \\in \\{1,\\dots,n\\}$, $\\sum_{j=1}^n P(i, j) = 1$, c'est à dire que pour $i$ fixé $(P(i, j))_{j \\in \\{1,\\dots,n\\}}$ définit une fonction de masse d'une probabilité discrète sur $\\{x_1,\\dots,x_n\\}$.\n",
    "\n",
    "Dans la suite on considère la loi $\\nu$ sur $\\{1,2,3,4\\}$ représentée par le vecteur ligne $\\bigl(\\frac{1}{10}, \\frac{2}{5}, \\frac{1}{5}, \\frac{3}{10}\\bigr)$. En utilisant la fonction `sample` créer un échantillon de 1000 réalisations de cette loi discrète et afficher l'histogramme associé (fonction de masse empirique)."
   ]
  },
  {
   "cell_type": "code",
   "execution_count": null,
   "metadata": {},
   "outputs": [],
   "source": []
  },
  {
   "cell_type": "markdown",
   "metadata": {},
   "source": [
    "Voici un algorithme pour construire la matrice stochastique $P$ (faire un dessin pour comprendre l'idée). \n",
    "- Initialisation:\n",
    "    - création de la matrice $P$, matrice diagonale de diagonale $P(i,i) = n \\nu_i$ (attention ici $P$ n'est pas une matrice stochastique)\n",
    "    - création des ensembles d'indices $S$ et $L$ définit par \n",
    "    $$\n",
    "    S = \\bigl\\{1 \\le i \\le n, P(i,i) < 1 \\bigr\\}\n",
    "    \\quad \\text{et} \\quad L = \\bigl\\{1 \\le i \\le n, P(i,i) > 1 \\bigr\\}\n",
    "    $$\n",
    "- tant que $S$ n'est pas vide \n",
    "    - on récupère $i$ un élément (par exemple le premier) de $S$ et $j$ un élément de $L$\n",
    "    - on initialise $P(i,j)$ avec $\\delta = 1 - P(i,i)$ \n",
    "    - on corrige la matrice $P$, $P(j,j) = P(j,j) - \\delta$\n",
    "    - on met à jour les ensembles $S$ et $L$\n",
    "   \n",
    "Coder cet algorithme dans une fonction `alias` et afficher les différentes matrices $P$ obtenues au cours de l'execution de l'algorithme pour l'exemple de la loi $\\nu$ sur $\\{1,2,3,4\\}$ représentée par le vecteur ligne $\\bigl(\\frac{1}{10}, \\frac{2}{5}, \\frac{1}{5}, \\frac{3}{10}\\bigr)$. Vérifier que la matrice finale est stochastique."
   ]
  },
  {
   "cell_type": "code",
   "execution_count": null,
   "metadata": {},
   "outputs": [],
   "source": []
  },
  {
   "cell_type": "markdown",
   "metadata": {},
   "source": [
    "Ecrire une fonction pour simuler en utilisant la méthode de l'alias en prenant pour argument la matrice $P$ construite précédemment. Indication: il faut bien comprendre ce que signifie $\\nu = \\mu P$ d'un point de vue probabiliste.\n"
   ]
  },
  {
   "cell_type": "code",
   "execution_count": null,
   "metadata": {},
   "outputs": [],
   "source": []
  },
  {
   "cell_type": "markdown",
   "metadata": {},
   "source": [
    "# Pour aller plus loin: package `ggplot2`\n",
    "Reprendre les exemples précédents et faire un affichage en utilisant le package `ggplot2` et la fonction `ggplot`. Ce package est devenu une référence pour des tracés de qualité dans les travaux scientifiques. "
   ]
  },
  {
   "cell_type": "code",
   "execution_count": null,
   "metadata": {},
   "outputs": [],
   "source": [
    "library(ggplot2)\n",
    "help(ggplot)\n",
    "example(ggplot)"
   ]
  }
 ],
 "metadata": {
  "kernelspec": {
   "display_name": "R",
   "language": "R",
   "name": "ir"
  },
  "language_info": {
   "codemirror_mode": "r",
   "file_extension": ".r",
   "mimetype": "text/x-r-source",
   "name": "R",
   "pygments_lexer": "r",
   "version": "3.3.2"
  }
 },
 "nbformat": 4,
 "nbformat_minor": 1
}
